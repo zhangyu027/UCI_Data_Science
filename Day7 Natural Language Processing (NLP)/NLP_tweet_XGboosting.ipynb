{
 "cells": [
  {
   "cell_type": "code",
   "execution_count": 2,
   "id": "758b6717-c07b-41ee-a242-bceac86bc7ca",
   "metadata": {},
   "outputs": [
    {
     "name": "stderr",
     "output_type": "stream",
     "text": [
      "[nltk_data] Downloading package stopwords to\n",
      "[nltk_data]     /Users/yuzhang/nltk_data...\n",
      "[nltk_data]   Unzipping corpora/stopwords.zip.\n"
     ]
    }
   ],
   "source": [
    "import pandas as pd\n",
    "import numpy as np\n",
    "from sklearn.model_selection import train_test_split\n",
    "from sklearn.metrics import confusion_matrix\n",
    "import nltk\n",
    "nltk.download('stopwords')\n",
    "from nltk.corpus import stopwords\n",
    "from nltk.stem.porter import PorterStemmer\n",
    "ps=PorterStemmer()"
   ]
  },
  {
   "cell_type": "code",
   "execution_count": 3,
   "id": "88ec38bf-7194-4a10-82e4-786a0c4cc24c",
   "metadata": {},
   "outputs": [],
   "source": [
    "test = pd.read_csv('/Users/yuzhang/Downloads/data/test.csv')\n",
    "train = pd.read_csv('/Users/yuzhang/Downloads/data/train.csv')"
   ]
  },
  {
   "cell_type": "code",
   "execution_count": 4,
   "id": "b91df5b0-c8e0-4239-8909-a1d8ca839cbe",
   "metadata": {},
   "outputs": [
    {
     "data": {
      "text/plain": [
       "id             0\n",
       "keyword       61\n",
       "location    2533\n",
       "text           0\n",
       "target         0\n",
       "dtype: int64"
      ]
     },
     "execution_count": 4,
     "metadata": {},
     "output_type": "execute_result"
    }
   ],
   "source": [
    "train.isnull().sum()"
   ]
  },
  {
   "cell_type": "code",
   "execution_count": 5,
   "id": "7934de13-99cd-4226-a21c-1f7b2d0051d8",
   "metadata": {},
   "outputs": [
    {
     "data": {
      "text/html": [
       "<div>\n",
       "<style scoped>\n",
       "    .dataframe tbody tr th:only-of-type {\n",
       "        vertical-align: middle;\n",
       "    }\n",
       "\n",
       "    .dataframe tbody tr th {\n",
       "        vertical-align: top;\n",
       "    }\n",
       "\n",
       "    .dataframe thead th {\n",
       "        text-align: right;\n",
       "    }\n",
       "</style>\n",
       "<table border=\"1\" class=\"dataframe\">\n",
       "  <thead>\n",
       "    <tr style=\"text-align: right;\">\n",
       "      <th></th>\n",
       "      <th>keyword</th>\n",
       "      <th>location</th>\n",
       "      <th>text</th>\n",
       "      <th>target</th>\n",
       "    </tr>\n",
       "  </thead>\n",
       "  <tbody>\n",
       "    <tr>\n",
       "      <th>0</th>\n",
       "      <td>NaN</td>\n",
       "      <td>NaN</td>\n",
       "      <td>Our Deeds are the Reason of this #earthquake M...</td>\n",
       "      <td>1</td>\n",
       "    </tr>\n",
       "    <tr>\n",
       "      <th>1</th>\n",
       "      <td>NaN</td>\n",
       "      <td>NaN</td>\n",
       "      <td>Forest fire near La Ronge Sask. Canada</td>\n",
       "      <td>1</td>\n",
       "    </tr>\n",
       "    <tr>\n",
       "      <th>2</th>\n",
       "      <td>NaN</td>\n",
       "      <td>NaN</td>\n",
       "      <td>All residents asked to 'shelter in place' are ...</td>\n",
       "      <td>1</td>\n",
       "    </tr>\n",
       "    <tr>\n",
       "      <th>3</th>\n",
       "      <td>NaN</td>\n",
       "      <td>NaN</td>\n",
       "      <td>13,000 people receive #wildfires evacuation or...</td>\n",
       "      <td>1</td>\n",
       "    </tr>\n",
       "    <tr>\n",
       "      <th>4</th>\n",
       "      <td>NaN</td>\n",
       "      <td>NaN</td>\n",
       "      <td>Just got sent this photo from Ruby #Alaska as ...</td>\n",
       "      <td>1</td>\n",
       "    </tr>\n",
       "  </tbody>\n",
       "</table>\n",
       "</div>"
      ],
      "text/plain": [
       "  keyword location                                               text  target\n",
       "0     NaN      NaN  Our Deeds are the Reason of this #earthquake M...       1\n",
       "1     NaN      NaN             Forest fire near La Ronge Sask. Canada       1\n",
       "2     NaN      NaN  All residents asked to 'shelter in place' are ...       1\n",
       "3     NaN      NaN  13,000 people receive #wildfires evacuation or...       1\n",
       "4     NaN      NaN  Just got sent this photo from Ruby #Alaska as ...       1"
      ]
     },
     "execution_count": 5,
     "metadata": {},
     "output_type": "execute_result"
    }
   ],
   "source": [
    "X = train.drop(['id'], axis = 1)\n",
    "X.head()"
   ]
  },
  {
   "cell_type": "code",
   "execution_count": 6,
   "id": "9ddf315a-4cd8-451a-b656-3fc4aa6e980f",
   "metadata": {},
   "outputs": [
    {
     "name": "stdout",
     "output_type": "stream",
     "text": [
      "fatalities\n",
      "USA\n"
     ]
    }
   ],
   "source": [
    "key = X[\"keyword\"].value_counts().index[0]\n",
    "print(key)\n",
    "loc = X[\"location\"].value_counts().index[0]\n",
    "print(loc)"
   ]
  },
  {
   "cell_type": "code",
   "execution_count": 8,
   "id": "669760bc-8703-4155-9a0f-75ff79243353",
   "metadata": {},
   "outputs": [
    {
     "data": {
      "text/html": [
       "<div>\n",
       "<style scoped>\n",
       "    .dataframe tbody tr th:only-of-type {\n",
       "        vertical-align: middle;\n",
       "    }\n",
       "\n",
       "    .dataframe tbody tr th {\n",
       "        vertical-align: top;\n",
       "    }\n",
       "\n",
       "    .dataframe thead th {\n",
       "        text-align: right;\n",
       "    }\n",
       "</style>\n",
       "<table border=\"1\" class=\"dataframe\">\n",
       "  <thead>\n",
       "    <tr style=\"text-align: right;\">\n",
       "      <th></th>\n",
       "      <th>id</th>\n",
       "      <th>keyword</th>\n",
       "      <th>location</th>\n",
       "      <th>text</th>\n",
       "      <th>target</th>\n",
       "    </tr>\n",
       "  </thead>\n",
       "  <tbody>\n",
       "    <tr>\n",
       "      <th>0</th>\n",
       "      <td>1</td>\n",
       "      <td>wrecked</td>\n",
       "      <td>åø\\_(?)_/åø</td>\n",
       "      <td>Our Deeds are the Reason of this #earthquake M...</td>\n",
       "      <td>1</td>\n",
       "    </tr>\n",
       "    <tr>\n",
       "      <th>1</th>\n",
       "      <td>4</td>\n",
       "      <td>wrecked</td>\n",
       "      <td>åø\\_(?)_/åø</td>\n",
       "      <td>Forest fire near La Ronge Sask. Canada</td>\n",
       "      <td>1</td>\n",
       "    </tr>\n",
       "    <tr>\n",
       "      <th>2</th>\n",
       "      <td>5</td>\n",
       "      <td>wrecked</td>\n",
       "      <td>åø\\_(?)_/åø</td>\n",
       "      <td>All residents asked to 'shelter in place' are ...</td>\n",
       "      <td>1</td>\n",
       "    </tr>\n",
       "    <tr>\n",
       "      <th>3</th>\n",
       "      <td>6</td>\n",
       "      <td>wrecked</td>\n",
       "      <td>åø\\_(?)_/åø</td>\n",
       "      <td>13,000 people receive #wildfires evacuation or...</td>\n",
       "      <td>1</td>\n",
       "    </tr>\n",
       "    <tr>\n",
       "      <th>4</th>\n",
       "      <td>7</td>\n",
       "      <td>wrecked</td>\n",
       "      <td>åø\\_(?)_/åø</td>\n",
       "      <td>Just got sent this photo from Ruby #Alaska as ...</td>\n",
       "      <td>1</td>\n",
       "    </tr>\n",
       "  </tbody>\n",
       "</table>\n",
       "</div>"
      ],
      "text/plain": [
       "   id  keyword     location  \\\n",
       "0   1  wrecked  åø\\_(?)_/åø   \n",
       "1   4  wrecked  åø\\_(?)_/åø   \n",
       "2   5  wrecked  åø\\_(?)_/åø   \n",
       "3   6  wrecked  åø\\_(?)_/åø   \n",
       "4   7  wrecked  åø\\_(?)_/åø   \n",
       "\n",
       "                                                text  target  \n",
       "0  Our Deeds are the Reason of this #earthquake M...       1  \n",
       "1             Forest fire near La Ronge Sask. Canada       1  \n",
       "2  All residents asked to 'shelter in place' are ...       1  \n",
       "3  13,000 people receive #wildfires evacuation or...       1  \n",
       "4  Just got sent this photo from Ruby #Alaska as ...       1  "
      ]
     },
     "execution_count": 8,
     "metadata": {},
     "output_type": "execute_result"
    }
   ],
   "source": [
    "train['keyword']=train['keyword'].fillna(train['keyword'].value_counts().index.max())\n",
    "train['location']=train['location'].fillna(train['location'].value_counts().index.max())\n",
    "train.head()"
   ]
  },
  {
   "cell_type": "code",
   "execution_count": 9,
   "id": "03a6bb7c-8d53-4318-bc45-aaf2c25ca07a",
   "metadata": {},
   "outputs": [
    {
     "data": {
      "text/plain": [
       "id          0\n",
       "keyword     0\n",
       "location    0\n",
       "text        0\n",
       "dtype: int64"
      ]
     },
     "execution_count": 9,
     "metadata": {},
     "output_type": "execute_result"
    }
   ],
   "source": [
    "test['keyword'] = test['keyword'].fillna(test['keyword'].value_counts().idxmax())\n",
    "test['location'] = test['location'].fillna(test['location'].value_counts().idxmax())\n",
    "test.isnull().sum()"
   ]
  },
  {
   "cell_type": "code",
   "execution_count": 13,
   "id": "5c08c6fb-bceb-4ab9-b369-bf46da8197b8",
   "metadata": {},
   "outputs": [
    {
     "name": "stdout",
     "output_type": "stream",
     "text": [
      "Collecting textblob\n",
      "  Downloading textblob-0.17.1-py2.py3-none-any.whl (636 kB)\n",
      "     |████████████████████████████████| 636 kB 4.5 MB/s            \n",
      "\u001b[?25hRequirement already satisfied: nltk>=3.1 in /Users/yuzhang/opt/anaconda3/lib/python3.8/site-packages (from textblob) (3.6.1)\n",
      "Requirement already satisfied: tqdm in /Users/yuzhang/opt/anaconda3/lib/python3.8/site-packages (from nltk>=3.1->textblob) (4.59.0)\n",
      "Requirement already satisfied: joblib in /Users/yuzhang/opt/anaconda3/lib/python3.8/site-packages (from nltk>=3.1->textblob) (1.0.1)\n",
      "Requirement already satisfied: click in /Users/yuzhang/opt/anaconda3/lib/python3.8/site-packages (from nltk>=3.1->textblob) (7.1.2)\n",
      "Requirement already satisfied: regex in /Users/yuzhang/opt/anaconda3/lib/python3.8/site-packages (from nltk>=3.1->textblob) (2021.4.4)\n",
      "Installing collected packages: textblob\n",
      "Successfully installed textblob-0.17.1\n"
     ]
    }
   ],
   "source": [
    "!pip install -U textblob"
   ]
  },
  {
   "cell_type": "code",
   "execution_count": 14,
   "id": "c6053dc6-58c9-4c78-a3c4-1342deb58c21",
   "metadata": {},
   "outputs": [
    {
     "name": "stderr",
     "output_type": "stream",
     "text": [
      "<ipython-input-14-79288de01214>:4: FutureWarning: The default value of regex will change from True to False in a future version.\n",
      "  X[\"text\"]=X[\"text\"].str.replace(\"[^\\w\\s]\",\" \") # Clear \".,!#\"\n",
      "<ipython-input-14-79288de01214>:5: FutureWarning: The default value of regex will change from True to False in a future version.\n",
      "  X[\"text\"]=X[\"text\"].str.replace(\"\\d\",\" \") # Clear Number\n",
      "[nltk_data] Downloading package wordnet to /Users/yuzhang/nltk_data...\n",
      "[nltk_data]   Unzipping corpora/wordnet.zip.\n"
     ]
    },
    {
     "data": {
      "text/plain": [
       "0           deed reason earthquake may allah forgive u\n",
       "1                forest fire near la ronge sask canada\n",
       "2    resident asked shelter place notified officer ...\n",
       "3    people receive wildfire evacuation order calif...\n",
       "4    got sent photo ruby alaska smoke wildfire pour...\n",
       "Name: text, dtype: object"
      ]
     },
     "execution_count": 14,
     "metadata": {},
     "output_type": "execute_result"
    }
   ],
   "source": [
    "X=train.iloc[:,1:4]\n",
    "y=train.iloc[:,4:]\n",
    "X[\"text\"]=X[\"text\"].apply(lambda x:\" \".join(x.lower() for x in x.split())) # Lower words\n",
    "X[\"text\"]=X[\"text\"].str.replace(\"[^\\w\\s]\",\" \") # Clear \".,!#\"\n",
    "X[\"text\"]=X[\"text\"].str.replace(\"\\d\",\" \") # Clear Number\n",
    "X[\"text\"]=X[\"text\"].str.replace(\"https\",\" \") # Clear https\n",
    "\n",
    "# Stopwords\n",
    "sw=stopwords.words(\"english\")\n",
    "X[\"text\"]=X[\"text\"].apply(lambda x:\" \".join(x for x in x.split() if x not in sw))\n",
    "# Lemmi\n",
    "from textblob import Word\n",
    "nltk.download(\"wordnet\")\n",
    "X[\"text\"]=X[\"text\"].apply(lambda x:\" \".join([Word(x).lemmatize() for x in x.split()]))\n",
    "X[\"text\"][:5]"
   ]
  },
  {
   "cell_type": "code",
   "execution_count": 16,
   "id": "0395f6eb-6e85-4592-87b3-26a6accc1ecd",
   "metadata": {},
   "outputs": [
    {
     "name": "stderr",
     "output_type": "stream",
     "text": [
      "<ipython-input-16-e3bf4965f624>:6: FutureWarning: The default value of regex will change from True to False in a future version.\n",
      "  test_x[\"text\"]=test_x[\"text\"].str.replace(\"[^\\w\\s]\",\" \")\n",
      "<ipython-input-16-e3bf4965f624>:7: FutureWarning: The default value of regex will change from True to False in a future version.\n",
      "  test_x[\"text\"]=test_x[\"text\"].str.replace(\"\\d\",\" \")\n"
     ]
    },
    {
     "data": {
      "text/plain": [
       "0                          happened terrible car crash\n",
       "1    heard earthquake different city stay safe ever...\n",
       "2    forest fire spot pond goose fleeing across str...\n",
       "3                 apocalypse lighting spokane wildfire\n",
       "4                   typhoon soudelor kill china taiwan\n",
       "Name: text, dtype: object"
      ]
     },
     "execution_count": 16,
     "metadata": {},
     "output_type": "execute_result"
    }
   ],
   "source": [
    "# For Test Data\n",
    "test_x=test.iloc[:,1:4]\n",
    "test_y=test.iloc[:,4:]\n",
    "\n",
    "test_x[\"text\"]=test_x[\"text\"].apply(lambda x:\" \".join(x.lower() for x in x.split() ))\n",
    "test_x[\"text\"]=test_x[\"text\"].str.replace(\"[^\\w\\s]\",\" \")\n",
    "test_x[\"text\"]=test_x[\"text\"].str.replace(\"\\d\",\" \")\n",
    "test_x[\"text\"]=test_x[\"text\"].apply(lambda x:\" \".join(x for x in x.split() if x not in sw))\n",
    "test_x[\"text\"]=test_x[\"text\"].str.replace(\"https\",\" \") # Clear https\n",
    "\n",
    "#Lemmi\n",
    "test_x[\"text\"]=test_x[\"text\"].apply(lambda x:\" \".join([Word(x).lemmatize() for x in x.split()]))\n",
    "test_x[\"text\"][:5]"
   ]
  },
  {
   "cell_type": "code",
   "execution_count": 18,
   "id": "33563317-d4d3-4645-9c37-16700832a6c1",
   "metadata": {},
   "outputs": [
    {
     "name": "stdout",
     "output_type": "stream",
     "text": [
      "['wrecked deed reason earthquake may allah forgive u'\n",
      " 'wrecked forest fire near la ronge sask canada'\n",
      " 'wrecked resident asked shelter place notified officer evacuation shelter place order expected'\n",
      " ... 'wrecked utc km volcano hawaii http co zdtoyd ebj'\n",
      " 'wrecked police investigating e bike collided car little portugal e bike rider suffered serious non life threatening injury'\n",
      " 'wrecked latest home razed northern california wildfire abc news http co ymy rskq']\n"
     ]
    }
   ],
   "source": [
    "X['sentence']=X['keyword']+\" \"+X[\"text\"]\n",
    "train_text = X[\"sentence\"].values\n",
    "print(train_text)"
   ]
  },
  {
   "cell_type": "code",
   "execution_count": 25,
   "id": "f9dda18c-a3fe-479f-8354-4368f9a57bfd",
   "metadata": {},
   "outputs": [
    {
     "name": "stdout",
     "output_type": "stream",
     "text": [
      "['deluged happened terrible car crash'\n",
      " 'deluged heard earthquake different city stay safe everyone'\n",
      " 'deluged forest fire spot pond goose fleeing across street cannot save'\n",
      " ... 'deluged green line derailment chicago http co utbxlcbiuy'\n",
      " 'deluged meg issue hazardous weather outlook hwo http co x rbqjhn'\n",
      " 'deluged cityofcalgary activated municipal emergency plan yycstorm']\n"
     ]
    }
   ],
   "source": [
    "test_x['sentence']=test_x['keyword']+\" \"+test_x[\"text\"]\n",
    "test_text = test_x[\"sentence\"].values\n",
    "print(test_text)"
   ]
  },
  {
   "cell_type": "code",
   "execution_count": 26,
   "id": "3c4cdca9-3244-46c0-a153-8c6d52a3355f",
   "metadata": {},
   "outputs": [],
   "source": [
    "x_train, x_test, y_train, y_test=train_test_split(train_text, y, test_size =0.2, random_state=1)"
   ]
  },
  {
   "cell_type": "code",
   "execution_count": 27,
   "id": "78f0ad21-44d0-4267-b6e6-3c590b9c3420",
   "metadata": {},
   "outputs": [
    {
     "name": "stdout",
     "output_type": "stream",
     "text": [
      "['bridge%20collapse sioux city fire official believe bridge collapse lead cement truck roll siouxland matter siouxlan http co sztgmbkohg'\n",
      " 'military strongly support military amp family cock sucker dc work'\n",
      " 'trouble lucysforsale funny cause dumb as young one get n trouble lol'\n",
      " ...\n",
      " 'flooding monsoon flooding kill dozen myanmar prompting call help http co r vpaklhvi'\n",
      " 'annihilated completely annihilated cech paul keegan time alive'\n",
      " 'obliterate whereas jez obliterate national debt give lot new benefit simply printing money genius co reffbkvg r']\n"
     ]
    }
   ],
   "source": [
    "from sklearn.feature_extraction.text import TfidfVectorizer\n",
    "vectorizer = TfidfVectorizer(max_features = 1500, min_df = 5, max_df = 0.7)\n",
    "vectorizer.fit(x_train)\n",
    "print(x_train)\n",
    "x_train_tfidf=vectorizer.transform(x_train).toarray()\n",
    "x_test_tfidf=vectorizer.transform(x_test).toarray()\n",
    "test_last=vectorizer.transform(test_text).toarray()"
   ]
  },
  {
   "cell_type": "code",
   "execution_count": 28,
   "id": "7cd10a74-4de6-4b1e-a70d-a471cbeead58",
   "metadata": {},
   "outputs": [
    {
     "name": "stderr",
     "output_type": "stream",
     "text": [
      "/Users/yuzhang/opt/anaconda3/lib/python3.8/site-packages/sklearn/utils/validation.py:63: DataConversionWarning: A column-vector y was passed when a 1d array was expected. Please change the shape of y to (n_samples, ), for example using ravel().\n",
      "  return f(*args, **kwargs)\n",
      "/Users/yuzhang/opt/anaconda3/lib/python3.8/site-packages/sklearn/utils/validation.py:63: DataConversionWarning: A column-vector y was passed when a 1d array was expected. Please change the shape of y to (n_samples, ), for example using ravel().\n",
      "  return f(*args, **kwargs)\n",
      "/Users/yuzhang/opt/anaconda3/lib/python3.8/site-packages/sklearn/utils/validation.py:63: DataConversionWarning: A column-vector y was passed when a 1d array was expected. Please change the shape of y to (n_samples, ), for example using ravel().\n",
      "  return f(*args, **kwargs)\n"
     ]
    },
    {
     "name": "stdout",
     "output_type": "stream",
     "text": [
      "[[772 110]\n",
      " [189 452]]\n",
      "0.7514546965918537\n",
      "              precision    recall  f1-score   support\n",
      "\n",
      "           0       0.80      0.88      0.84       882\n",
      "           1       0.80      0.71      0.75       641\n",
      "\n",
      "    accuracy                           0.80      1523\n",
      "   macro avg       0.80      0.79      0.79      1523\n",
      "weighted avg       0.80      0.80      0.80      1523\n",
      "\n"
     ]
    },
    {
     "name": "stderr",
     "output_type": "stream",
     "text": [
      "/Users/yuzhang/opt/anaconda3/lib/python3.8/site-packages/sklearn/utils/validation.py:63: DataConversionWarning: A column-vector y was passed when a 1d array was expected. Please change the shape of y to (n_samples, ), for example using ravel().\n",
      "  return f(*args, **kwargs)\n",
      "/Users/yuzhang/opt/anaconda3/lib/python3.8/site-packages/sklearn/utils/validation.py:63: DataConversionWarning: A column-vector y was passed when a 1d array was expected. Please change the shape of y to (n_samples, ), for example using ravel().\n",
      "  return f(*args, **kwargs)\n",
      "/Users/yuzhang/opt/anaconda3/lib/python3.8/site-packages/sklearn/utils/validation.py:63: DataConversionWarning: A column-vector y was passed when a 1d array was expected. Please change the shape of y to (n_samples, ), for example using ravel().\n",
      "  return f(*args, **kwargs)\n",
      "/Users/yuzhang/opt/anaconda3/lib/python3.8/site-packages/sklearn/utils/validation.py:63: DataConversionWarning: A column-vector y was passed when a 1d array was expected. Please change the shape of y to (n_samples, ), for example using ravel().\n",
      "  return f(*args, **kwargs)\n",
      "/Users/yuzhang/opt/anaconda3/lib/python3.8/site-packages/sklearn/utils/validation.py:63: DataConversionWarning: A column-vector y was passed when a 1d array was expected. Please change the shape of y to (n_samples, ), for example using ravel().\n",
      "  return f(*args, **kwargs)\n",
      "/Users/yuzhang/opt/anaconda3/lib/python3.8/site-packages/sklearn/utils/validation.py:63: DataConversionWarning: A column-vector y was passed when a 1d array was expected. Please change the shape of y to (n_samples, ), for example using ravel().\n",
      "  return f(*args, **kwargs)\n",
      "/Users/yuzhang/opt/anaconda3/lib/python3.8/site-packages/sklearn/utils/validation.py:63: DataConversionWarning: A column-vector y was passed when a 1d array was expected. Please change the shape of y to (n_samples, ), for example using ravel().\n",
      "  return f(*args, **kwargs)\n",
      "/Users/yuzhang/opt/anaconda3/lib/python3.8/site-packages/sklearn/utils/validation.py:63: DataConversionWarning: A column-vector y was passed when a 1d array was expected. Please change the shape of y to (n_samples, ), for example using ravel().\n",
      "  return f(*args, **kwargs)\n"
     ]
    },
    {
     "name": "stdout",
     "output_type": "stream",
     "text": [
      "0.7662839697282422\n"
     ]
    }
   ],
   "source": [
    "from sklearn.naive_bayes import BernoulliNB\n",
    "from sklearn.metrics import f1_score\n",
    "from sklearn.metrics import classification_report\n",
    "from sklearn.model_selection import cross_val_score\n",
    "\n",
    "bn=BernoulliNB(alpha=0.2)\n",
    "bn.fit(x_train_tfidf, y_train)\n",
    "y_pred=bn.predict(x_test_tfidf)\n",
    "cm=confusion_matrix(y_test, y_pred)\n",
    "print(cm)\n",
    "f1=f1_score(y_test, y_pred)\n",
    "print(f1)\n",
    "cr=classification_report(y_test, y_pred)\n",
    "print(cr)\n",
    "accuracy=cross_val_score(bn,x_test_tfidf, y_test, cv=10).mean()\n",
    "print(accuracy)"
   ]
  },
  {
   "cell_type": "code",
   "execution_count": 31,
   "id": "09aafcac-3ce6-4567-8d97-f093fc36d6ba",
   "metadata": {},
   "outputs": [
    {
     "data": {
      "text/html": [
       "<div>\n",
       "<style scoped>\n",
       "    .dataframe tbody tr th:only-of-type {\n",
       "        vertical-align: middle;\n",
       "    }\n",
       "\n",
       "    .dataframe tbody tr th {\n",
       "        vertical-align: top;\n",
       "    }\n",
       "\n",
       "    .dataframe thead th {\n",
       "        text-align: right;\n",
       "    }\n",
       "</style>\n",
       "<table border=\"1\" class=\"dataframe\">\n",
       "  <thead>\n",
       "    <tr style=\"text-align: right;\">\n",
       "      <th></th>\n",
       "      <th>id</th>\n",
       "      <th>target</th>\n",
       "    </tr>\n",
       "  </thead>\n",
       "  <tbody>\n",
       "    <tr>\n",
       "      <th>0</th>\n",
       "      <td>0</td>\n",
       "      <td>0</td>\n",
       "    </tr>\n",
       "    <tr>\n",
       "      <th>1</th>\n",
       "      <td>2</td>\n",
       "      <td>0</td>\n",
       "    </tr>\n",
       "    <tr>\n",
       "      <th>2</th>\n",
       "      <td>3</td>\n",
       "      <td>0</td>\n",
       "    </tr>\n",
       "    <tr>\n",
       "      <th>3</th>\n",
       "      <td>9</td>\n",
       "      <td>0</td>\n",
       "    </tr>\n",
       "    <tr>\n",
       "      <th>4</th>\n",
       "      <td>11</td>\n",
       "      <td>1</td>\n",
       "    </tr>\n",
       "    <tr>\n",
       "      <th>...</th>\n",
       "      <td>...</td>\n",
       "      <td>...</td>\n",
       "    </tr>\n",
       "    <tr>\n",
       "      <th>3258</th>\n",
       "      <td>10861</td>\n",
       "      <td>0</td>\n",
       "    </tr>\n",
       "    <tr>\n",
       "      <th>3259</th>\n",
       "      <td>10865</td>\n",
       "      <td>1</td>\n",
       "    </tr>\n",
       "    <tr>\n",
       "      <th>3260</th>\n",
       "      <td>10868</td>\n",
       "      <td>1</td>\n",
       "    </tr>\n",
       "    <tr>\n",
       "      <th>3261</th>\n",
       "      <td>10874</td>\n",
       "      <td>1</td>\n",
       "    </tr>\n",
       "    <tr>\n",
       "      <th>3262</th>\n",
       "      <td>10875</td>\n",
       "      <td>1</td>\n",
       "    </tr>\n",
       "  </tbody>\n",
       "</table>\n",
       "<p>3263 rows × 2 columns</p>\n",
       "</div>"
      ],
      "text/plain": [
       "         id  target\n",
       "0         0       0\n",
       "1         2       0\n",
       "2         3       0\n",
       "3         9       0\n",
       "4        11       1\n",
       "...     ...     ...\n",
       "3258  10861       0\n",
       "3259  10865       1\n",
       "3260  10868       1\n",
       "3261  10874       1\n",
       "3262  10875       1\n",
       "\n",
       "[3263 rows x 2 columns]"
      ]
     },
     "execution_count": 31,
     "metadata": {},
     "output_type": "execute_result"
    }
   ],
   "source": [
    "prediction1=bn.predict(test_last)\n",
    "data={'id':test[\"id\"], 'target':prediction1}\n",
    "output=pd.DataFrame(data, columns=[\"id\", 'target'])\n",
    "output.index=test.index\n",
    "\n",
    "output.to_csv(\"submission.csv\", index = False)\n",
    "\n",
    "a = pd.read_csv(\"submission.csv\")\n",
    "a"
   ]
  },
  {
   "cell_type": "markdown",
   "id": "6bb9e8f7-f36e-40fc-8ee5-8ef5ba0503bc",
   "metadata": {},
   "source": [
    "#### Using CATBOOST"
   ]
  },
  {
   "cell_type": "code",
   "execution_count": null,
   "id": "ee4feaaf-931b-4a25-a502-591fd531881c",
   "metadata": {},
   "outputs": [],
   "source": []
  }
 ],
 "metadata": {
  "kernelspec": {
   "display_name": "Python 3",
   "language": "python",
   "name": "python3"
  },
  "language_info": {
   "codemirror_mode": {
    "name": "ipython",
    "version": 3
   },
   "file_extension": ".py",
   "mimetype": "text/x-python",
   "name": "python",
   "nbconvert_exporter": "python",
   "pygments_lexer": "ipython3",
   "version": "3.8.8"
  }
 },
 "nbformat": 4,
 "nbformat_minor": 5
}
