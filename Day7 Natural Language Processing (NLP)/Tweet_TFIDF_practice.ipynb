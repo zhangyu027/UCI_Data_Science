{
 "cells": [
  {
   "cell_type": "code",
   "execution_count": 1,
   "id": "aadf37ff-991a-4a74-9857-bd7532ea2dd4",
   "metadata": {},
   "outputs": [
    {
     "name": "stdout",
     "output_type": "stream",
     "text": [
      "\u001b[31mERROR: pip's dependency resolver does not currently take into account all the packages that are installed. This behaviour is the source of the following dependency conflicts.\n",
      "tensorflow-transform 1.2.0.dev0 requires tensorflow!=2.0.*,!=2.1.*,!=2.2.*,!=2.3.*,!=2.4.*,<2.6,>=1.15.2, but you have tensorflow 2.7.0 which is incompatible.\u001b[0m\n"
     ]
    }
   ],
   "source": [
    "!pip install -q tensorflow==2.7.0"
   ]
  },
  {
   "cell_type": "code",
   "execution_count": 5,
   "id": "b3c44d0d-9f9f-4324-9596-6290395cd343",
   "metadata": {},
   "outputs": [],
   "source": [
    "import pandas as pd\n",
    "import numpy as np\n",
    "import tensorflow as tf\n",
    "from tensorflow import keras\n",
    "from tensorflow.keras import layers\n",
    "import matplotlib.pyplot as plt\n",
    "import seaborn as sns\n",
    "from sklearn.metrics import confusion_matrix, classification_report, accuracy_score\n",
    "from sklearn.model_selection import StratifiedKFold"
   ]
  },
  {
   "cell_type": "code",
   "execution_count": 6,
   "id": "411b6eb5-183e-47cc-a31f-ba4090089eae",
   "metadata": {},
   "outputs": [
    {
     "data": {
      "text/html": [
       "<div>\n",
       "<style scoped>\n",
       "    .dataframe tbody tr th:only-of-type {\n",
       "        vertical-align: middle;\n",
       "    }\n",
       "\n",
       "    .dataframe tbody tr th {\n",
       "        vertical-align: top;\n",
       "    }\n",
       "\n",
       "    .dataframe thead th {\n",
       "        text-align: right;\n",
       "    }\n",
       "</style>\n",
       "<table border=\"1\" class=\"dataframe\">\n",
       "  <thead>\n",
       "    <tr style=\"text-align: right;\">\n",
       "      <th></th>\n",
       "      <th>id</th>\n",
       "      <th>keyword</th>\n",
       "      <th>location</th>\n",
       "      <th>text</th>\n",
       "      <th>target</th>\n",
       "    </tr>\n",
       "  </thead>\n",
       "  <tbody>\n",
       "    <tr>\n",
       "      <th>0</th>\n",
       "      <td>1</td>\n",
       "      <td>NaN</td>\n",
       "      <td>NaN</td>\n",
       "      <td>Our Deeds are the Reason of this #earthquake M...</td>\n",
       "      <td>1</td>\n",
       "    </tr>\n",
       "    <tr>\n",
       "      <th>1</th>\n",
       "      <td>4</td>\n",
       "      <td>NaN</td>\n",
       "      <td>NaN</td>\n",
       "      <td>Forest fire near La Ronge Sask. Canada</td>\n",
       "      <td>1</td>\n",
       "    </tr>\n",
       "    <tr>\n",
       "      <th>2</th>\n",
       "      <td>5</td>\n",
       "      <td>NaN</td>\n",
       "      <td>NaN</td>\n",
       "      <td>All residents asked to 'shelter in place' are ...</td>\n",
       "      <td>1</td>\n",
       "    </tr>\n",
       "    <tr>\n",
       "      <th>3</th>\n",
       "      <td>6</td>\n",
       "      <td>NaN</td>\n",
       "      <td>NaN</td>\n",
       "      <td>13,000 people receive #wildfires evacuation or...</td>\n",
       "      <td>1</td>\n",
       "    </tr>\n",
       "    <tr>\n",
       "      <th>4</th>\n",
       "      <td>7</td>\n",
       "      <td>NaN</td>\n",
       "      <td>NaN</td>\n",
       "      <td>Just got sent this photo from Ruby #Alaska as ...</td>\n",
       "      <td>1</td>\n",
       "    </tr>\n",
       "  </tbody>\n",
       "</table>\n",
       "</div>"
      ],
      "text/plain": [
       "   id keyword location                                               text  \\\n",
       "0   1     NaN      NaN  Our Deeds are the Reason of this #earthquake M...   \n",
       "1   4     NaN      NaN             Forest fire near La Ronge Sask. Canada   \n",
       "2   5     NaN      NaN  All residents asked to 'shelter in place' are ...   \n",
       "3   6     NaN      NaN  13,000 people receive #wildfires evacuation or...   \n",
       "4   7     NaN      NaN  Just got sent this photo from Ruby #Alaska as ...   \n",
       "\n",
       "   target  \n",
       "0       1  \n",
       "1       1  \n",
       "2       1  \n",
       "3       1  \n",
       "4       1  "
      ]
     },
     "execution_count": 6,
     "metadata": {},
     "output_type": "execute_result"
    }
   ],
   "source": [
    "test = pd.read_csv('/Users/yuzhang/Downloads/data/test.csv')\n",
    "train = pd.read_csv('/Users/yuzhang/Downloads/data/train.csv')\n",
    "train.head()"
   ]
  },
  {
   "cell_type": "code",
   "execution_count": 7,
   "id": "5a8b58ea-b0f0-4039-a330-e772d9c8c63b",
   "metadata": {},
   "outputs": [
    {
     "data": {
      "text/plain": [
       "(7613, 5)"
      ]
     },
     "execution_count": 7,
     "metadata": {},
     "output_type": "execute_result"
    }
   ],
   "source": [
    "train.shape"
   ]
  },
  {
   "cell_type": "code",
   "execution_count": 8,
   "id": "6d897ee6-233b-411c-986b-d97030678395",
   "metadata": {},
   "outputs": [
    {
     "data": {
      "text/plain": [
       "(3263, 4)"
      ]
     },
     "execution_count": 8,
     "metadata": {},
     "output_type": "execute_result"
    }
   ],
   "source": [
    "test.shape"
   ]
  },
  {
   "cell_type": "code",
   "execution_count": 9,
   "id": "cd8f51d1-067f-4ffc-9230-596cc07d57fd",
   "metadata": {},
   "outputs": [
    {
     "data": {
      "text/plain": [
       "USA                       104\n",
       "New York                   71\n",
       "United States              50\n",
       "London                     45\n",
       "Canada                     29\n",
       "                         ... \n",
       "Land of Lincoln             1\n",
       "Tafekop Ga-Matsepe          1\n",
       "hey Georgia                 1\n",
       "Sacramento, California      1\n",
       "SaudI arabia - riyadh       1\n",
       "Name: location, Length: 3341, dtype: int64"
      ]
     },
     "execution_count": 9,
     "metadata": {},
     "output_type": "execute_result"
    }
   ],
   "source": [
    "train.location.value_counts()"
   ]
  },
  {
   "cell_type": "markdown",
   "id": "dca9ea52-fd37-4888-85ca-04d49981b2e1",
   "metadata": {},
   "source": [
    "#### Data Wrangling"
   ]
  },
  {
   "cell_type": "code",
   "execution_count": 10,
   "id": "6a9943d7-ee42-45ed-bf76-cbf6b21e5da2",
   "metadata": {},
   "outputs": [
    {
     "data": {
      "text/plain": [
       "id             0\n",
       "keyword       61\n",
       "location    2533\n",
       "text           0\n",
       "target         0\n",
       "dtype: int64"
      ]
     },
     "execution_count": 10,
     "metadata": {},
     "output_type": "execute_result"
    }
   ],
   "source": [
    "train.isnull().sum()"
   ]
  },
  {
   "cell_type": "code",
   "execution_count": 11,
   "id": "8286635e-a5bc-41bd-8b49-4c2245755024",
   "metadata": {},
   "outputs": [
    {
     "data": {
      "text/plain": [
       "id             0\n",
       "keyword       26\n",
       "location    1105\n",
       "text           0\n",
       "dtype: int64"
      ]
     },
     "execution_count": 11,
     "metadata": {},
     "output_type": "execute_result"
    }
   ],
   "source": [
    "test.isnull().sum()"
   ]
  },
  {
   "cell_type": "code",
   "execution_count": 12,
   "id": "4ea38387-f410-4af0-8cd9-daf321862e02",
   "metadata": {},
   "outputs": [],
   "source": [
    "train['keyword'].replace(np.NAN,\"\", inplace=True)\n",
    "train['location'].replace(np.NAN,\"\", inplace=True)\n",
    "test['keyword'].replace(np.NAN,\"\", inplace=True)\n",
    "test['location'].replace(np.NAN,\"\", inplace=True)"
   ]
  },
  {
   "cell_type": "code",
   "execution_count": 13,
   "id": "5c1e519b-7b23-46d6-98dd-b73a654b8e47",
   "metadata": {},
   "outputs": [
    {
     "data": {
      "text/plain": [
       "id          0\n",
       "keyword     0\n",
       "location    0\n",
       "text        0\n",
       "target      0\n",
       "dtype: int64"
      ]
     },
     "execution_count": 13,
     "metadata": {},
     "output_type": "execute_result"
    }
   ],
   "source": [
    "train.isnull().sum()"
   ]
  },
  {
   "cell_type": "code",
   "execution_count": 14,
   "id": "4ecac99a-9c2d-48ad-a680-7da8ef835f14",
   "metadata": {},
   "outputs": [
    {
     "data": {
      "text/plain": [
       "id          0\n",
       "keyword     0\n",
       "location    0\n",
       "text        0\n",
       "dtype: int64"
      ]
     },
     "execution_count": 14,
     "metadata": {},
     "output_type": "execute_result"
    }
   ],
   "source": [
    "test.isnull().sum()"
   ]
  },
  {
   "cell_type": "code",
   "execution_count": 15,
   "id": "a97a2356-d22d-4271-b445-aadb384e1847",
   "metadata": {},
   "outputs": [
    {
     "data": {
      "text/plain": [
       "3263"
      ]
     },
     "execution_count": 15,
     "metadata": {},
     "output_type": "execute_result"
    }
   ],
   "source": [
    "len(test['keyword'])"
   ]
  },
  {
   "cell_type": "markdown",
   "id": "dfbf228d-fbb8-4877-b3eb-6b6e5e2c02e6",
   "metadata": {},
   "source": [
    "#### Exploratory Data Analysis & Data Processing\n",
    "#### Tokenize Texts\n",
    "#### Show Statistics info of texts"
   ]
  },
  {
   "cell_type": "code",
   "execution_count": 16,
   "id": "cf6b0efd-48d1-4fe4-a459-95a3e09c2a2a",
   "metadata": {},
   "outputs": [],
   "source": [
    "contents = []\n",
    "for data in [train, test]:\n",
    "    for i in range(data.shape[0]):\n",
    "        item=data.iloc[i]\n",
    "        sentence=item[\"keyword\"]+\" \"+item[\"text\"]+\" \"+item[\"location\"]\n",
    "        contents.append(sentence.lower())"
   ]
  },
  {
   "cell_type": "code",
   "execution_count": 17,
   "id": "72793b7a-e5cf-4922-8f53-b88b44865ebf",
   "metadata": {},
   "outputs": [],
   "source": [
    "train_contents=contents[:len(train)]\n",
    "test_contents=contents[:len(test)]"
   ]
  },
  {
   "cell_type": "code",
   "execution_count": 19,
   "id": "d30bee88-59a6-46d0-a7a6-5680c3771de7",
   "metadata": {},
   "outputs": [],
   "source": [
    "train[\"X\"]=train_contents\n",
    "test[\"X\"]=test_contents"
   ]
  },
  {
   "cell_type": "markdown",
   "id": "177bbee4-a1d9-442b-8582-7bcfb70b081a",
   "metadata": {},
   "source": [
    "#### TF-IDF Vectorization"
   ]
  },
  {
   "cell_type": "code",
   "execution_count": 21,
   "id": "62a8d428-6dff-4b95-a796-6d1f7294bf13",
   "metadata": {},
   "outputs": [],
   "source": [
    "vocab_size=10000\n",
    "text_vectorizer=layers.TextVectorization(max_tokens=vocab_size, output_mode=\"tf-idf\", ngrams=2)\n",
    "\n",
    "with tf.device(\"CPU\"):\n",
    "    text_vectorizer.adapt(contents)"
   ]
  },
  {
   "cell_type": "markdown",
   "id": "a647d75c-d90d-4e18-9265-4eb12c65b641",
   "metadata": {},
   "source": [
    "#### Model Development \n",
    "#### Binary Cross Entropy with Weights"
   ]
  },
  {
   "cell_type": "code",
   "execution_count": 22,
   "id": "7dde254f-effb-420a-a0bc-5a29d8716b74",
   "metadata": {},
   "outputs": [],
   "source": [
    "class BinaryCrossEntropy(tf.keras.losses.Loss):\n",
    "    \n",
    "    def __init__(self, positive_rate=0.5):\n",
    "        super().__init__()\n",
    "        self.negative_weights = positive_rate\n",
    "        self.positive_weights = 1 - positive_rate\n",
    "        \n",
    "    def call(self, y_true, y_pred):\n",
    "        print(y_true, y_pred)\n",
    "        y_true = tf.cast(y_true, y_pred.dtype)\n",
    "        pos = self.positive_weights*y_true*tf.math.log(y_pred+tf.keras.backend.epsilon())\n",
    "        neg = self.negative_weights*(1.0-y_true)*tf.math.log(1.0-y_pred+tf.keras.backend.epsilon())\n",
    "        return-(pos+neg)"
   ]
  },
  {
   "cell_type": "markdown",
   "id": "ca68736e-bf5f-49f1-96b0-88f7861e9195",
   "metadata": {},
   "source": [
    "#### Text Classification Model"
   ]
  },
  {
   "cell_type": "code",
   "execution_count": 26,
   "id": "1495ffbe-2949-44e1-afc5-e530edd937bd",
   "metadata": {},
   "outputs": [],
   "source": [
    "def get_model():\n",
    "    inputs = layers.Input(shape=(None,), dtype=\"string\")\n",
    "    x = text_vectorizer(inputs)\n",
    "    x = layers.Dense(32, activation=\"relu\")(x)\n",
    "    x = layers.Dropout(0.5)(x)\n",
    "    outputs = layers.Dense(1, activation='sigmoid')(x)\n",
    "    return keras.Model(inputs=inputs, outputs=outputs)"
   ]
  },
  {
   "cell_type": "code",
   "execution_count": 27,
   "id": "8fa87b2e-d5d9-4ca2-8684-eaa4f8a58065",
   "metadata": {},
   "outputs": [
    {
     "name": "stdout",
     "output_type": "stream",
     "text": [
      "('You must install pydot (`pip install pydot`) and install graphviz (see instructions at https://graphviz.gitlab.io/download/) ', 'for plot_model/model_to_dot to work.')\n"
     ]
    }
   ],
   "source": [
    "model=get_model()\n",
    "keras.utils.plot_model(model, show_shapes=True)"
   ]
  },
  {
   "cell_type": "code",
   "execution_count": 37,
   "id": "e7184498-6b07-4de5-9742-5f2478aa284b",
   "metadata": {},
   "outputs": [
    {
     "name": "stdout",
     "output_type": "stream",
     "text": [
      "Fold 1\n",
      "Epoch 1/100\n",
      "Tensor(\"IteratorGetNext:1\", shape=(None, 1), dtype=int64) Tensor(\"model/dense_1/Sigmoid:0\", shape=(None, 1), dtype=float32)\n",
      "Tensor(\"IteratorGetNext:1\", shape=(None, 1), dtype=int64) Tensor(\"model/dense_1/Sigmoid:0\", shape=(None, 1), dtype=float32)\n",
      "185/191 [============================>.] - ETA: 0s - loss: 0.3712 - accuracy: 0.6096Tensor(\"IteratorGetNext:1\", shape=(None, 1), dtype=int64) Tensor(\"model/dense_1/Sigmoid:0\", shape=(None, 1), dtype=float32)\n",
      "191/191 [==============================] - 2s 4ms/step - loss: 0.3689 - accuracy: 0.6123 - val_loss: 0.2519 - val_accuracy: 0.7728\n",
      "Epoch 2/100\n",
      "191/191 [==============================] - 1s 3ms/step - loss: 0.2282 - accuracy: 0.7885 - val_loss: 0.2298 - val_accuracy: 0.7919\n",
      "Epoch 3/100\n",
      "191/191 [==============================] - 1s 3ms/step - loss: 0.1854 - accuracy: 0.8443 - val_loss: 0.2235 - val_accuracy: 0.8076\n",
      "Epoch 4/100\n",
      "191/191 [==============================] - 1s 3ms/step - loss: 0.1550 - accuracy: 0.8796 - val_loss: 0.2278 - val_accuracy: 0.7892\n",
      "Epoch 5/100\n",
      "191/191 [==============================] - 1s 4ms/step - loss: 0.1353 - accuracy: 0.8984 - val_loss: 0.2310 - val_accuracy: 0.8089\n",
      "Epoch 6/100\n",
      "191/191 [==============================] - 1s 4ms/step - loss: 0.1162 - accuracy: 0.9186 - val_loss: 0.2387 - val_accuracy: 0.8024\n",
      "Epoch 7/100\n",
      "191/191 [==============================] - 1s 3ms/step - loss: 0.1020 - accuracy: 0.9319 - val_loss: 0.2480 - val_accuracy: 0.8037\n",
      "Epoch 8/100\n",
      "191/191 [==============================] - 1s 3ms/step - loss: 0.0890 - accuracy: 0.9404 - val_loss: 0.2572 - val_accuracy: 0.7965\n",
      "Epoch 9/100\n",
      "191/191 [==============================] - 1s 3ms/step - loss: 0.0797 - accuracy: 0.9489 - val_loss: 0.2701 - val_accuracy: 0.7997\n",
      "Epoch 10/100\n",
      "191/191 [==============================] - 1s 3ms/step - loss: 0.0708 - accuracy: 0.9548 - val_loss: 0.2865 - val_accuracy: 0.7984\n",
      "Epoch 11/100\n",
      "191/191 [==============================] - 1s 4ms/step - loss: 0.0628 - accuracy: 0.9593 - val_loss: 0.3008 - val_accuracy: 0.7925\n",
      "Epoch 12/100\n",
      "191/191 [==============================] - 1s 4ms/step - loss: 0.0598 - accuracy: 0.9634 - val_loss: 0.3131 - val_accuracy: 0.7774\n",
      "Epoch 13/100\n",
      "191/191 [==============================] - 1s 4ms/step - loss: 0.0541 - accuracy: 0.9665 - val_loss: 0.3316 - val_accuracy: 0.7866\n"
     ]
    },
    {
     "data": {
      "image/png": "[encoded data removed]",
      "text/plain": [
       "<Figure size 432x288 with 1 Axes>"
      ]
     },
     "metadata": {
      "needs_background": "light"
     },
     "output_type": "display_data"
    },
    {
     "data": {
      "image/png": "[encoded data removed]",
      "text/plain": [
       "<Figure size 432x288 with 2 Axes>"
      ]
     },
     "metadata": {
      "needs_background": "light"
     },
     "output_type": "display_data"
    },
    {
     "name": "stdout",
     "output_type": "stream",
     "text": [
      "Classification Report: \n",
      "\n",
      "              precision    recall  f1-score   support\n",
      "\n",
      "           0       0.82      0.85      0.84       868\n",
      "           1       0.79      0.75      0.77       655\n",
      "\n",
      "    accuracy                           0.81      1523\n",
      "   macro avg       0.81      0.80      0.80      1523\n",
      "weighted avg       0.81      0.81      0.81      1523\n",
      "\n",
      "Accuracy Score: 0.81\n",
      "Fold 2\n",
      "Epoch 1/100\n",
      "Tensor(\"IteratorGetNext:1\", shape=(None, 1), dtype=int64) Tensor(\"model_1/dense_3/Sigmoid:0\", shape=(None, 1), dtype=float32)\n",
      "Tensor(\"IteratorGetNext:1\", shape=(None, 1), dtype=int64) Tensor(\"model_1/dense_3/Sigmoid:0\", shape=(None, 1), dtype=float32)\n",
      "189/191 [============================>.] - ETA: 0s - loss: 0.3440 - accuracy: 0.6202Tensor(\"IteratorGetNext:1\", shape=(None, 1), dtype=int64) Tensor(\"model_1/dense_3/Sigmoid:0\", shape=(None, 1), dtype=float32)\n",
      "191/191 [==============================] - 2s 5ms/step - loss: 0.3437 - accuracy: 0.6209 - val_loss: 0.2590 - val_accuracy: 0.7656\n",
      "Epoch 2/100\n",
      "191/191 [==============================] - 1s 4ms/step - loss: 0.2243 - accuracy: 0.7992 - val_loss: 0.2396 - val_accuracy: 0.7761\n",
      "Epoch 3/100\n",
      "191/191 [==============================] - 1s 4ms/step - loss: 0.1835 - accuracy: 0.8473 - val_loss: 0.2353 - val_accuracy: 0.7971\n",
      "Epoch 4/100\n",
      "191/191 [==============================] - 1s 3ms/step - loss: 0.1536 - accuracy: 0.8841 - val_loss: 0.2389 - val_accuracy: 0.7879\n",
      "Epoch 5/100\n",
      "191/191 [==============================] - 1s 3ms/step - loss: 0.1309 - accuracy: 0.8993 - val_loss: 0.2472 - val_accuracy: 0.7866\n",
      "Epoch 6/100\n",
      "191/191 [==============================] - 1s 3ms/step - loss: 0.1143 - accuracy: 0.9159 - val_loss: 0.2555 - val_accuracy: 0.7951\n",
      "Epoch 7/100\n",
      "191/191 [==============================] - 1s 3ms/step - loss: 0.1007 - accuracy: 0.9322 - val_loss: 0.2704 - val_accuracy: 0.7971\n",
      "Epoch 8/100\n",
      "191/191 [==============================] - 1s 3ms/step - loss: 0.0878 - accuracy: 0.9407 - val_loss: 0.2780 - val_accuracy: 0.7971\n",
      "Epoch 9/100\n",
      "191/191 [==============================] - 1s 4ms/step - loss: 0.0793 - accuracy: 0.9445 - val_loss: 0.2940 - val_accuracy: 0.7984\n",
      "Epoch 10/100\n",
      "191/191 [==============================] - 1s 4ms/step - loss: 0.0741 - accuracy: 0.9532 - val_loss: 0.3035 - val_accuracy: 0.7938\n",
      "Epoch 11/100\n",
      "191/191 [==============================] - 1s 5ms/step - loss: 0.0663 - accuracy: 0.9562 - val_loss: 0.3201 - val_accuracy: 0.7925\n",
      "Epoch 12/100\n",
      "191/191 [==============================] - 1s 5ms/step - loss: 0.0600 - accuracy: 0.9626 - val_loss: 0.3352 - val_accuracy: 0.7958\n",
      "Epoch 13/100\n",
      "191/191 [==============================] - 1s 4ms/step - loss: 0.0545 - accuracy: 0.9639 - val_loss: 0.3474 - val_accuracy: 0.7886\n"
     ]
    },
    {
     "data": {
      "image/png": "[encoded data removed]",
      "text/plain": [
       "<Figure size 432x288 with 1 Axes>"
      ]
     },
     "metadata": {
      "needs_background": "light"
     },
     "output_type": "display_data"
    },
    {
     "data": {
      "image/png": "[encoded data removed]",
      "text/plain": [
       "<Figure size 432x288 with 2 Axes>"
      ]
     },
     "metadata": {
      "needs_background": "light"
     },
     "output_type": "display_data"
    },
    {
     "name": "stdout",
     "output_type": "stream",
     "text": [
      "Classification Report: \n",
      "\n",
      "              precision    recall  f1-score   support\n",
      "\n",
      "           0       0.80      0.87      0.83       869\n",
      "           1       0.80      0.71      0.75       654\n",
      "\n",
      "    accuracy                           0.80      1523\n",
      "   macro avg       0.80      0.79      0.79      1523\n",
      "weighted avg       0.80      0.80      0.80      1523\n",
      "\n",
      "Accuracy Score: 0.80\n",
      "Fold 3\n",
      "Epoch 1/100\n",
      "Tensor(\"IteratorGetNext:1\", shape=(None, 1), dtype=int64) Tensor(\"model_2/dense_5/Sigmoid:0\", shape=(None, 1), dtype=float32)\n",
      "Tensor(\"IteratorGetNext:1\", shape=(None, 1), dtype=int64) Tensor(\"model_2/dense_5/Sigmoid:0\", shape=(None, 1), dtype=float32)\n",
      "185/191 [============================>.] - ETA: 0s - loss: 0.3268 - accuracy: 0.6201Tensor(\"IteratorGetNext:1\", shape=(None, 1), dtype=int64) Tensor(\"model_2/dense_5/Sigmoid:0\", shape=(None, 1), dtype=float32)\n",
      "191/191 [==============================] - 1s 5ms/step - loss: 0.3253 - accuracy: 0.6238 - val_loss: 0.2754 - val_accuracy: 0.7531\n",
      "Epoch 2/100\n",
      "191/191 [==============================] - 1s 5ms/step - loss: 0.2392 - accuracy: 0.7842 - val_loss: 0.2416 - val_accuracy: 0.7787\n",
      "Epoch 3/100\n",
      "191/191 [==============================] - 1s 4ms/step - loss: 0.1938 - accuracy: 0.8386 - val_loss: 0.2339 - val_accuracy: 0.7866\n",
      "Epoch 4/100\n",
      "191/191 [==============================] - 1s 4ms/step - loss: 0.1624 - accuracy: 0.8780 - val_loss: 0.2344 - val_accuracy: 0.7879\n",
      "Epoch 5/100\n",
      "191/191 [==============================] - 1s 4ms/step - loss: 0.1382 - accuracy: 0.8933 - val_loss: 0.2431 - val_accuracy: 0.7879\n",
      "Epoch 6/100\n",
      "191/191 [==============================] - 1s 4ms/step - loss: 0.1188 - accuracy: 0.9110 - val_loss: 0.2522 - val_accuracy: 0.7846\n",
      "Epoch 7/100\n",
      "191/191 [==============================] - 1s 4ms/step - loss: 0.1069 - accuracy: 0.9276 - val_loss: 0.2605 - val_accuracy: 0.7853\n",
      "Epoch 8/100\n",
      "191/191 [==============================] - 1s 5ms/step - loss: 0.0899 - accuracy: 0.9381 - val_loss: 0.2733 - val_accuracy: 0.7853\n",
      "Epoch 9/100\n",
      "191/191 [==============================] - 1s 5ms/step - loss: 0.0822 - accuracy: 0.9442 - val_loss: 0.2854 - val_accuracy: 0.7984\n",
      "Epoch 10/100\n",
      "191/191 [==============================] - 1s 3ms/step - loss: 0.0749 - accuracy: 0.9517 - val_loss: 0.2992 - val_accuracy: 0.7886\n",
      "Epoch 11/100\n",
      "191/191 [==============================] - 1s 3ms/step - loss: 0.0661 - accuracy: 0.9581 - val_loss: 0.3191 - val_accuracy: 0.7905\n",
      "Epoch 12/100\n",
      "191/191 [==============================] - 1s 4ms/step - loss: 0.0618 - accuracy: 0.9627 - val_loss: 0.3259 - val_accuracy: 0.7859\n",
      "Epoch 13/100\n",
      "191/191 [==============================] - 1s 5ms/step - loss: 0.0553 - accuracy: 0.9668 - val_loss: 0.3424 - val_accuracy: 0.7853\n"
     ]
    },
    {
     "data": {
      "image/png": "[encoded data removed]",
      "text/plain": [
       "<Figure size 432x288 with 1 Axes>"
      ]
     },
     "metadata": {
      "needs_background": "light"
     },
     "output_type": "display_data"
    },
    {
     "data": {
      "image/png": "[encoded data removed]",
      "text/plain": [
       "<Figure size 432x288 with 2 Axes>"
      ]
     },
     "metadata": {
      "needs_background": "light"
     },
     "output_type": "display_data"
    },
    {
     "name": "stdout",
     "output_type": "stream",
     "text": [
      "Classification Report: \n",
      "\n",
      "              precision    recall  f1-score   support\n",
      "\n",
      "           0       0.81      0.85      0.83       869\n",
      "           1       0.79      0.73      0.76       654\n",
      "\n",
      "    accuracy                           0.80      1523\n",
      "   macro avg       0.80      0.79      0.79      1523\n",
      "weighted avg       0.80      0.80      0.80      1523\n",
      "\n",
      "Accuracy Score: 0.80\n",
      "Fold 4\n",
      "Epoch 1/100\n",
      "Tensor(\"IteratorGetNext:1\", shape=(None, 1), dtype=int64) Tensor(\"model_3/dense_7/Sigmoid:0\", shape=(None, 1), dtype=float32)\n",
      "Tensor(\"IteratorGetNext:1\", shape=(None, 1), dtype=int64) Tensor(\"model_3/dense_7/Sigmoid:0\", shape=(None, 1), dtype=float32)\n",
      "173/191 [==========================>...] - ETA: 0s - loss: 0.3430 - accuracy: 0.6142Tensor(\"IteratorGetNext:1\", shape=(None, 1), dtype=int64) Tensor(\"model_3/dense_7/Sigmoid:0\", shape=(None, 1), dtype=float32)\n",
      "191/191 [==============================] - 1s 4ms/step - loss: 0.3375 - accuracy: 0.6239 - val_loss: 0.2648 - val_accuracy: 0.7628\n",
      "Epoch 2/100\n",
      "191/191 [==============================] - 1s 3ms/step - loss: 0.2361 - accuracy: 0.7859 - val_loss: 0.2350 - val_accuracy: 0.7898\n",
      "Epoch 3/100\n",
      "191/191 [==============================] - 1s 3ms/step - loss: 0.1887 - accuracy: 0.8442 - val_loss: 0.2283 - val_accuracy: 0.7773\n",
      "Epoch 4/100\n",
      "191/191 [==============================] - 1s 4ms/step - loss: 0.1590 - accuracy: 0.8820 - val_loss: 0.2334 - val_accuracy: 0.7825\n",
      "Epoch 5/100\n",
      "191/191 [==============================] - 1s 4ms/step - loss: 0.1325 - accuracy: 0.8992 - val_loss: 0.2424 - val_accuracy: 0.7825\n",
      "Epoch 6/100\n",
      "191/191 [==============================] - 1s 4ms/step - loss: 0.1125 - accuracy: 0.9217 - val_loss: 0.2482 - val_accuracy: 0.7733\n",
      "Epoch 7/100\n",
      "191/191 [==============================] - 1s 4ms/step - loss: 0.0990 - accuracy: 0.9368 - val_loss: 0.2617 - val_accuracy: 0.7641\n",
      "Epoch 8/100\n",
      "191/191 [==============================] - 1s 3ms/step - loss: 0.0853 - accuracy: 0.9425 - val_loss: 0.2756 - val_accuracy: 0.7641\n",
      "Epoch 9/100\n",
      "191/191 [==============================] - 1s 3ms/step - loss: 0.0775 - accuracy: 0.9489 - val_loss: 0.2899 - val_accuracy: 0.7727\n",
      "Epoch 10/100\n",
      "191/191 [==============================] - 1s 3ms/step - loss: 0.0683 - accuracy: 0.9568 - val_loss: 0.3038 - val_accuracy: 0.7628\n",
      "Epoch 11/100\n",
      "191/191 [==============================] - 1s 4ms/step - loss: 0.0621 - accuracy: 0.9604 - val_loss: 0.3185 - val_accuracy: 0.7615\n",
      "Epoch 12/100\n",
      "191/191 [==============================] - 1s 4ms/step - loss: 0.0563 - accuracy: 0.9645 - val_loss: 0.3318 - val_accuracy: 0.7648\n",
      "Epoch 13/100\n",
      "191/191 [==============================] - 1s 4ms/step - loss: 0.0504 - accuracy: 0.9685 - val_loss: 0.3468 - val_accuracy: 0.7661\n"
     ]
    },
    {
     "data": {
      "image/png": "[encoded data removed]",
      "text/plain": [
       "<Figure size 432x288 with 1 Axes>"
      ]
     },
     "metadata": {
      "needs_background": "light"
     },
     "output_type": "display_data"
    },
    {
     "data": {
      "image/png": "[encoded data removed]",
      "text/plain": [
       "<Figure size 432x288 with 2 Axes>"
      ]
     },
     "metadata": {
      "needs_background": "light"
     },
     "output_type": "display_data"
    },
    {
     "name": "stdout",
     "output_type": "stream",
     "text": [
      "Classification Report: \n",
      "\n",
      "              precision    recall  f1-score   support\n",
      "\n",
      "           0       0.80      0.85      0.82       868\n",
      "           1       0.78      0.71      0.74       654\n",
      "\n",
      "    accuracy                           0.79      1522\n",
      "   macro avg       0.79      0.78      0.78      1522\n",
      "weighted avg       0.79      0.79      0.79      1522\n",
      "\n",
      "Accuracy Score: 0.79\n",
      "Fold 5\n",
      "Epoch 1/100\n",
      "Tensor(\"IteratorGetNext:1\", shape=(None, 1), dtype=int64) Tensor(\"model_4/dense_9/Sigmoid:0\", shape=(None, 1), dtype=float32)\n",
      "Tensor(\"IteratorGetNext:1\", shape=(None, 1), dtype=int64) Tensor(\"model_4/dense_9/Sigmoid:0\", shape=(None, 1), dtype=float32)\n",
      "174/191 [==========================>...] - ETA: 0s - loss: 0.3424 - accuracy: 0.6047Tensor(\"IteratorGetNext:1\", shape=(None, 1), dtype=int64) Tensor(\"model_4/dense_9/Sigmoid:0\", shape=(None, 1), dtype=float32)\n",
      "191/191 [==============================] - 1s 4ms/step - loss: 0.3374 - accuracy: 0.6114 - val_loss: 0.2673 - val_accuracy: 0.7635\n",
      "Epoch 2/100\n",
      "191/191 [==============================] - 1s 3ms/step - loss: 0.2406 - accuracy: 0.7710 - val_loss: 0.2388 - val_accuracy: 0.7917\n",
      "Epoch 3/100\n",
      "191/191 [==============================] - 1s 3ms/step - loss: 0.1970 - accuracy: 0.8360 - val_loss: 0.2293 - val_accuracy: 0.7989\n",
      "Epoch 4/100\n",
      "191/191 [==============================] - 1s 4ms/step - loss: 0.1670 - accuracy: 0.8657 - val_loss: 0.2310 - val_accuracy: 0.7996\n",
      "Epoch 5/100\n",
      "191/191 [==============================] - 1s 4ms/step - loss: 0.1427 - accuracy: 0.8949 - val_loss: 0.2309 - val_accuracy: 0.7989\n",
      "Epoch 6/100\n",
      "191/191 [==============================] - 1s 4ms/step - loss: 0.1242 - accuracy: 0.9100 - val_loss: 0.2378 - val_accuracy: 0.7963\n",
      "Epoch 7/100\n",
      "191/191 [==============================] - 1s 4ms/step - loss: 0.1078 - accuracy: 0.9276 - val_loss: 0.2464 - val_accuracy: 0.7930\n",
      "Epoch 8/100\n",
      "191/191 [==============================] - 1s 4ms/step - loss: 0.0970 - accuracy: 0.9338 - val_loss: 0.2536 - val_accuracy: 0.7930\n",
      "Epoch 9/100\n",
      "191/191 [==============================] - 1s 5ms/step - loss: 0.0838 - accuracy: 0.9465 - val_loss: 0.2678 - val_accuracy: 0.7957\n",
      "Epoch 10/100\n",
      "191/191 [==============================] - 1s 6ms/step - loss: 0.0736 - accuracy: 0.9542 - val_loss: 0.2770 - val_accuracy: 0.7924\n",
      "Epoch 11/100\n",
      "191/191 [==============================] - 1s 6ms/step - loss: 0.0692 - accuracy: 0.9575 - val_loss: 0.2881 - val_accuracy: 0.7878\n",
      "Epoch 12/100\n",
      "191/191 [==============================] - 1s 7ms/step - loss: 0.0636 - accuracy: 0.9594 - val_loss: 0.3019 - val_accuracy: 0.7878\n",
      "Epoch 13/100\n",
      "191/191 [==============================] - 1s 5ms/step - loss: 0.0558 - accuracy: 0.9640 - val_loss: 0.3130 - val_accuracy: 0.7891\n"
     ]
    },
    {
     "data": {
      "image/png": "[encoded data removed]",
      "text/plain": [
       "<Figure size 432x288 with 1 Axes>"
      ]
     },
     "metadata": {
      "needs_background": "light"
     },
     "output_type": "display_data"
    },
    {
     "data": {
      "image/png": "[encoded data removed]",
      "text/plain": [
       "<Figure size 432x288 with 2 Axes>"
      ]
     },
     "metadata": {
      "needs_background": "light"
     },
     "output_type": "display_data"
    },
    {
     "name": "stdout",
     "output_type": "stream",
     "text": [
      "Classification Report: \n",
      "\n",
      "              precision    recall  f1-score   support\n",
      "\n",
      "           0       0.80      0.86      0.83       868\n",
      "           1       0.79      0.72      0.76       654\n",
      "\n",
      "    accuracy                           0.80      1522\n",
      "   macro avg       0.80      0.79      0.79      1522\n",
      "weighted avg       0.80      0.80      0.80      1522\n",
      "\n",
      "Accuracy Score: 0.80\n"
     ]
    }
   ],
   "source": [
    "index = 1\n",
    "models = []\n",
    "tf.keras.backend.clear_session()\n",
    "for train_indices, val_indices in StratifiedKFold(5, shuffle=True, random_state=42).split(train, train[\"target\"]):\n",
    "    print(\"Fold %d\" %(index))\n",
    "    train_features, train_targets = train.iloc[train_indices][\"X\"], train.iloc[train_indices][\"target\"]\n",
    "    validation_features, validation_targets = train.iloc[val_indices][\"X\"], train.iloc[val_indices][\"target\"]\n",
    "    model_checkpoint_path = \"model%d.tf\"%(index)\n",
    "    model = get_model()\n",
    "    loss = BinaryCrossEntropy(train_targets.mean())\n",
    "    adam = tf.keras.optimizers.Adam(3e-4)\n",
    "    model.compile(loss=loss, optimizer=adam, metrics=[\"accuracy\"])\n",
    "    early_stop=tf.keras.callbacks.EarlyStopping(patience=10)\n",
    "    recuce_Lf=tf.keras.callbacks.ReduceLROnPlateau(patience=2)\n",
    "    model_checkpoint=tf.keras.callbacks.ModelCheckpoint(model_checkpoint_path, monitor=\"val_accuracy\", save_best_only=True,\n",
    "                                                       save_weights_only=True)\n",
    "    history=model.fit(train_features, train_targets, validation_data=(validation_features, validation_targets), epochs=100, \n",
    "                     callbacks=[early_stop, model_checkpoint])\n",
    "    pd.DataFrame(history.history).plot(kind=\"line\")\n",
    "    plt.title(\"Performance of Fold %d\"%(index))\n",
    "    plt.show()\n",
    "    model.load_weights(model_checkpoint_path)\n",
    "    y_val_pred=np.array(model.predict(validation_features)>0.5, dtype=\"int\").reshape(-1)\n",
    "    cm=confusion_matrix(validation_targets, y_val_pred)\n",
    "    sns.heatmap(cm, annot=True)\n",
    "    plt.show()\n",
    "    print(\"Classification Report: \\n\")\n",
    "    print(classification_report(validation_targets, y_val_pred))\n",
    "    acc_score=accuracy_score(validation_targets, y_val_pred)\n",
    "    print(\"Accuracy Score: %.2f\"%(acc_score))\n",
    "    models.append(model)\n",
    "    index += 1"
   ]
  },
  {
   "cell_type": "markdown",
   "id": "961d0993-3f24-46d9-99c2-c7109ac067b2",
   "metadata": {},
   "source": [
    "#### Submission"
   ]
  },
  {
   "cell_type": "code",
   "execution_count": null,
   "id": "e963a8d0-44bd-487b-b42d-5760b6b4ce05",
   "metadata": {},
   "outputs": [],
   "source": [
    "y_test = np.mean([model.predict(test[\"X\"]).reshape(-1) for model in models], axis=0)\n",
    "y_test = np.array(y_test > 0.5, dtype = int)\n",
    "submissoin = pd.DataFrame({\"id\":test[\"id\"], \"target\": y_test})\n",
    "submission.to_csv(\"submission.csv\", index=False)"
   ]
  }
 ],
 "metadata": {
  "kernelspec": {
   "display_name": "Python 3",
   "language": "python",
   "name": "python3"
  },
  "language_info": {
   "codemirror_mode": {
    "name": "ipython",
    "version": 3
   },
   "file_extension": ".py",
   "mimetype": "text/x-python",
   "name": "python",
   "nbconvert_exporter": "python",
   "pygments_lexer": "ipython3",
   "version": "3.8.8"
  }
 },
 "nbformat": 4,
 "nbformat_minor": 5
}
