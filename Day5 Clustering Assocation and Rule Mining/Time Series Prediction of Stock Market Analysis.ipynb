{
 "cells": [
  {
   "cell_type": "markdown",
   "id": "cb91efae",
   "metadata": {},
   "source": [
    "## In this notebook will be performed:\n",
    "\n",
    "Importing Libraries\n",
    "Preprocessing\n",
    "Tesla Stock Market Analyis\n",
    "Tesla ARIMA (AutoRegressive Integrated Moving Average) Time Series Prediction\n",
    "Microsoft Stock Market Analyis\n",
    "Microsoft ARIMA (AutoRegressive Integrated Moving Average) Time Series Prediction"
   ]
  },
  {
   "cell_type": "code",
   "execution_count": null,
   "id": "c78fec92",
   "metadata": {},
   "outputs": [],
   "source": [
    "## Importing Libraries¶\n",
    "\n",
    "import numpy as np # linear algebra\n",
    "import pandas as pd # data processing, CSV file I/O (e.g. pd.read_csv)\n",
    "import os\n",
    "from subprocess import check_output\n",
    "import seaborn as sns\n",
    "import matplotlib.pyplot as plt\n",
    "import warnings\n",
    "from pandas.plotting import lag_plot\n",
    "from pandas import datetime\n",
    "from statsmodels.tsa.arima_model import ARIMA\n",
    "from sklearn.metrics import mean_squared_error"
   ]
  },
  {
   "cell_type": "code",
   "execution_count": null,
   "id": "4e6737c8",
   "metadata": {},
   "outputs": [],
   "source": [
    "warnings.filterwarnings('ignore')"
   ]
  },
  {
   "cell_type": "code",
   "execution_count": null,
   "id": "a4649e2c",
   "metadata": {},
   "outputs": [],
   "source": [
    "## Preprocessing\n",
    "# This Python 3 environment comes with many helpful analytics libraries installed\n",
    "# It is defined by the kaggle/python docker image: https://github.com/kaggle/docker-python\n",
    "# For example, here's several helpful packages to load in \n",
    "\n",
    "# Input data files are available in the \"../input/\" directory.\n",
    "# For example, running this (by clicking run or pressing Shift+Enter) will list the files in the input directory\n",
    "\n",
    "print(os.listdir(\"../input\"))\n",
    "\n",
    "print(check_output([\"ls\", \"../input/Data\"]).decode(\"utf8\"))\n",
    "\n",
    "# Any results you write to the current directory are saved as output."
   ]
  },
  {
   "cell_type": "code",
   "execution_count": null,
   "id": "2ce51a7f",
   "metadata": {},
   "outputs": [],
   "source": [
    "#print(check_output([\"ls\", \"../input/Data/Stocks\"]).decode(\"utf8\"))"
   ]
  },
  {
   "cell_type": "markdown",
   "id": "22203492",
   "metadata": {},
   "source": [
    "## Tesla Stock Market Analyis\n"
   ]
  },
  {
   "cell_type": "code",
   "execution_count": null,
   "id": "62056cad",
   "metadata": {},
   "outputs": [],
   "source": [
    "df = pd.read_csv(\"../input/Data/Stocks/tsla.us.txt\")\n",
    "df.head()"
   ]
  },
  {
   "cell_type": "code",
   "execution_count": null,
   "id": "9f04b1df",
   "metadata": {},
   "outputs": [],
   "source": [
    "print(df.head())\n",
    "print(df.shape)\n",
    "print(df.columns)"
   ]
  },
  {
   "cell_type": "code",
   "execution_count": null,
   "id": "d4afcc20",
   "metadata": {},
   "outputs": [],
   "source": [
    "df[['Close']].plot()\n",
    "plt.title(\"Tesla\")\n",
    "plt.show()"
   ]
  },
  {
   "cell_type": "code",
   "execution_count": null,
   "id": "af65dfc3",
   "metadata": {},
   "outputs": [],
   "source": [
    "# Comulative Return\n",
    "dr = df.cumsum()\n",
    "dr.plot()\n",
    "plt.title('Tesla Cumulative Returns')"
   ]
  },
  {
   "cell_type": "code",
   "execution_count": null,
   "id": "2cce2317",
   "metadata": {},
   "outputs": [],
   "source": [
    "plt.figure(figsize=(10,10))\n",
    "lag_plot(df['Open'], lag=5)\n",
    "plt.title('Tesla Autocorrelation plot')"
   ]
  },
  {
   "cell_type": "markdown",
   "id": "ce86e798",
   "metadata": {},
   "source": [
    "## ARIMA (AutoRegressive Integrated Moving Average) for Time Series Prediction"
   ]
  },
  {
   "cell_type": "code",
   "execution_count": null,
   "id": "cfd805a5",
   "metadata": {},
   "outputs": [],
   "source": [
    "df['Date'][1857]"
   ]
  },
  {
   "cell_type": "code",
   "execution_count": null,
   "id": "6131948f",
   "metadata": {},
   "outputs": [],
   "source": [
    "train_data, test_data = df[0:int(len(df)*0.8)], df[int(len(df)*0.8):]\n",
    "plt.figure(figsize=(12,7))\n",
    "plt.title('Tesla Prices')\n",
    "plt.xlabel('Dates')\n",
    "plt.ylabel('Prices')\n",
    "plt.plot(df['Open'], 'blue', label='Training Data')\n",
    "plt.plot(test_data['Open'], 'green', label='Testing Data')\n",
    "plt.xticks(np.arange(0,1857, 300), df['Date'][0:1857:300])\n",
    "plt.legend()"
   ]
  },
  {
   "cell_type": "code",
   "execution_count": null,
   "id": "a0f117bf",
   "metadata": {},
   "outputs": [],
   "source": [
    "def smape_kun(y_true, y_pred):\n",
    "    return np.mean((np.abs(y_pred - y_true) * 200/ (np.abs(y_pred) + np.abs(y_true))))"
   ]
  },
  {
   "cell_type": "code",
   "execution_count": null,
   "id": "763d271d",
   "metadata": {},
   "outputs": [],
   "source": [
    "train_ar = train_data['Open'].values\n",
    "test_ar = test_data['Open'].values\n",
    "\n",
    "# https://machinelearningmastery.com/arima-for-time-series-forecasting-with-python/\n",
    "history = [x for x in train_ar]\n",
    "print(type(history))\n",
    "predictions = list()\n",
    "for t in range(len(test_ar)):\n",
    "    model = ARIMA(history, order=(5,1,0))\n",
    "    model_fit = model.fit(disp=0)\n",
    "    output = model_fit.forecast()\n",
    "    yhat = output[0]\n",
    "    predictions.append(yhat)\n",
    "    obs = test_ar[t]\n",
    "    history.append(obs)\n",
    "    #print('predicted=%f, expected=%f' % (yhat, obs))\n",
    "error = mean_squared_error(test_ar, predictions)\n",
    "print('Testing Mean Squared Error: %.3f' % error)\n",
    "error2 = smape_kun(test_ar, predictions)\n",
    "print('Symmetric mean absolute percentage error: %.3f' % error2)"
   ]
  },
  {
   "cell_type": "code",
   "execution_count": null,
   "id": "1abc7c5e",
   "metadata": {},
   "outputs": [],
   "source": [
    "plt.figure(figsize=(12,7))\n",
    "plt.plot(df['Open'], 'green', color='blue', label='Training Data')\n",
    "plt.plot(test_data.index, predictions, color='green', marker='o', linestyle='dashed', \n",
    "         label='Predicted Price')\n",
    "plt.plot(test_data.index, test_data['Open'], color='red', label='Actual Price')\n",
    "plt.title('Tesla Prices Prediction')\n",
    "plt.xlabel('Dates')\n",
    "plt.ylabel('Prices')\n",
    "plt.xticks(np.arange(0,1857, 300), df['Date'][0:1857:300])\n",
    "plt.legend()"
   ]
  },
  {
   "cell_type": "code",
   "execution_count": null,
   "id": "cac3c037",
   "metadata": {},
   "outputs": [],
   "source": [
    "#test_data['Date'][0:1856:10]\n"
   ]
  },
  {
   "cell_type": "code",
   "execution_count": null,
   "id": "c52e3116",
   "metadata": {},
   "outputs": [],
   "source": [
    "plt.figure(figsize=(12,7))\n",
    "plt.plot(test_data.index, predictions, color='green', marker='o', linestyle='dashed', \n",
    "         label='Predicted Price')\n",
    "plt.plot(test_data.index, test_data['Open'], color='red', label='Actual Price')\n",
    "plt.xticks(np.arange(1486,1856, 60), df['Date'][1486:1856:60])\n",
    "plt.title('Tesla Prices Prediction')\n",
    "plt.xlabel('Dates')\n",
    "plt.ylabel('Prices')\n",
    "plt.legend()"
   ]
  },
  {
   "cell_type": "markdown",
   "id": "b712b52d",
   "metadata": {},
   "source": [
    "## Microsoft Stock Market Analyis\n"
   ]
  },
  {
   "cell_type": "code",
   "execution_count": null,
   "id": "dab5cc2f",
   "metadata": {},
   "outputs": [],
   "source": [
    "df = pd.read_csv(\"../input/Data/Stocks/msft.us.txt\").fillna(0)\n",
    "df.head()"
   ]
  },
  {
   "cell_type": "code",
   "execution_count": null,
   "id": "eb83cca3",
   "metadata": {},
   "outputs": [],
   "source": [
    "df[['Close']].plot()\n",
    "plt.title(\"Microsoft\")\n",
    "plt.show()"
   ]
  },
  {
   "cell_type": "code",
   "execution_count": null,
   "id": "54f7b257",
   "metadata": {},
   "outputs": [],
   "source": [
    "# Comulative Return\n",
    "dr = df.cumsum()\n",
    "dr.plot()\n",
    "plt.title('Microsoft Cumulative Returns')"
   ]
  },
  {
   "cell_type": "code",
   "execution_count": null,
   "id": "1ee19a9a",
   "metadata": {},
   "outputs": [],
   "source": [
    "plt.figure(figsize=(10,10))\n",
    "lag_plot(df['Open'], lag=5)\n",
    "plt.title('Microsoft Autocorrelation plot')"
   ]
  },
  {
   "cell_type": "markdown",
   "id": "6ac022ba",
   "metadata": {},
   "source": [
    "## ARIMA (AutoRegressive Integrated Moving Average) for Time Series Prediction¶"
   ]
  },
  {
   "cell_type": "code",
   "execution_count": null,
   "id": "1007f335",
   "metadata": {},
   "outputs": [],
   "source": [
    "df['Date'][7982]"
   ]
  },
  {
   "cell_type": "code",
   "execution_count": null,
   "id": "ade45ae0",
   "metadata": {},
   "outputs": [],
   "source": [
    "train_data, test_data = df[0:int(len(df)*0.8)], df[int(len(df)*0.8):]\n",
    "plt.figure(figsize=(12,7))\n",
    "plt.title('Microsoft Prices')\n",
    "plt.xlabel('Dates')\n",
    "plt.ylabel('Prices')\n",
    "plt.plot(df['Open'], 'blue', label='Training Data')\n",
    "plt.plot(test_data['Open'], 'green', label='Testing Data')\n",
    "plt.xticks(np.arange(0,7982, 1300), df['Date'][0:7982:1300])\n",
    "plt.legend()"
   ]
  },
  {
   "cell_type": "code",
   "execution_count": null,
   "id": "fcd822c7",
   "metadata": {},
   "outputs": [],
   "source": [
    "def smape_kun(y_true, y_pred):\n",
    "    return np.mean((np.abs(y_pred - y_true) * 200/ (np.abs(y_pred) + np.abs(y_true))))"
   ]
  },
  {
   "cell_type": "code",
   "execution_count": null,
   "id": "6466be4b",
   "metadata": {},
   "outputs": [],
   "source": [
    "train_ar = train_data['Open'].values\n",
    "test_ar = test_data['Open'].values\n",
    "\n",
    "# https://machinelearningmastery.com/arima-for-time-series-forecasting-with-python/\n",
    "history = [x for x in train_ar]\n",
    "print(type(history))\n",
    "predictions = list()\n",
    "for t in range(len(test_ar)):\n",
    "    model = ARIMA(history, order=(5,1,0))\n",
    "    model_fit = model.fit(disp=0)\n",
    "    output = model_fit.forecast()\n",
    "    yhat = output[0]\n",
    "    predictions.append(yhat)\n",
    "    obs = test_ar[t]\n",
    "    history.append(obs)\n",
    "    #print('predicted=%f, expected=%f' % (yhat, obs))\n",
    "error = mean_squared_error(test_ar, predictions)\n",
    "print('Testing Mean Squared Error: %.3f' % error)\n",
    "error2 = smape_kun(test_ar, predictions)\n",
    "print('Symmetric mean absolute percentage error: %.3f' % error2)"
   ]
  },
  {
   "cell_type": "code",
   "execution_count": null,
   "id": "f3e0866e",
   "metadata": {},
   "outputs": [],
   "source": [
    "plt.figure(figsize=(12,7))\n",
    "plt.plot(df['Open'], 'green', color='blue', label='Training Data')\n",
    "plt.plot(test_data.index, predictions, color='green', marker='o', linestyle='dashed', \n",
    "         label='Predicted Price')\n",
    "plt.plot(test_data.index, test_data['Open'], color='red', label='Actual Price')\n",
    "plt.title('Microsoft Prices Prediction')\n",
    "plt.xlabel('Dates')\n",
    "plt.ylabel('Prices')\n",
    "plt.xticks(np.arange(0,7982, 1300), df['Date'][0:7982:1300])\n",
    "plt.legend()"
   ]
  },
  {
   "cell_type": "code",
   "execution_count": null,
   "id": "ba469b83",
   "metadata": {},
   "outputs": [],
   "source": [
    "plt.figure(figsize=(12,7))\n",
    "plt.plot(test_data.index, predictions, color='green', marker='o', linestyle='dashed', \n",
    "         label='Predicted Price')\n",
    "plt.plot(test_data.index, test_data['Open'], color='red', label='Actual Price')\n",
    "plt.title('Microsoft Prices Prediction')\n",
    "plt.xlabel('Dates')\n",
    "plt.ylabel('Prices')\n",
    "plt.xticks(np.arange(6386,7982, 300), df['Date'][6386:7982:300])\n",
    "plt.legend()"
   ]
  }
 ],
 "metadata": {
  "kernelspec": {
   "display_name": "Python 3",
   "language": "python",
   "name": "python3"
  },
  "language_info": {
   "codemirror_mode": {
    "name": "ipython",
    "version": 3
   },
   "file_extension": ".py",
   "mimetype": "text/x-python",
   "name": "python",
   "nbconvert_exporter": "python",
   "pygments_lexer": "ipython3",
   "version": "3.8.8"
  }
 },
 "nbformat": 4,
 "nbformat_minor": 5
}
